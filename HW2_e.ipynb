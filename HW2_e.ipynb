{
 "cells": [
  {
   "cell_type": "code",
   "execution_count": 1,
   "metadata": {},
   "outputs": [
    {
     "name": "stdout",
     "output_type": "stream",
     "text": [
      "                  AT       V      AP      RH\n",
      "Univariate   -2.1713 -1.1681  1.4898  0.4556\n",
      "Multivariate -1.9775 -0.2339  0.0621 -0.1581\n",
      "         AT      V       AP     RH      PE\n",
      "0     14.96  41.76  1024.07  73.17  463.26\n",
      "1     25.18  62.96  1020.04  59.08  444.37\n",
      "2      5.11  39.40  1012.16  92.14  488.56\n",
      "3     20.86  57.32  1010.24  76.64  446.48\n",
      "4     10.82  37.50  1009.23  96.62  473.90\n",
      "...     ...    ...      ...    ...     ...\n",
      "9563  16.65  49.69  1014.01  91.00  460.03\n",
      "9564  13.19  39.18  1023.67  66.78  469.62\n",
      "9565  31.32  74.33  1012.92  36.48  429.57\n",
      "9566  24.48  69.45  1013.86  62.39  435.74\n",
      "9567  21.60  62.52  1017.23  67.87  453.28\n",
      "\n",
      "[9568 rows x 5 columns]\n",
      "The correlation matrix for our features is : \n",
      "\n",
      "          AT         V        AP        RH\n",
      "AT  1.000000  0.844107 -0.507549 -0.542535\n",
      "V   0.844107  1.000000 -0.413502 -0.312187\n",
      "AP -0.507549 -0.413502  1.000000  0.099574\n",
      "RH -0.542535 -0.312187  0.099574  1.000000\n"
     ]
    },
    {
     "data": {
      "image/png": "[encoded data removed]",
      "text/plain": [
       "<Figure size 432x288 with 1 Axes>"
      ]
     },
     "metadata": {
      "needs_background": "light"
     },
     "output_type": "display_data"
    },
    {
     "data": {
      "text/plain": [
       "'\\nFrom the values of the different predictors:\\n\\nAT\\'s value in multivariate reduced in terms of magnitude\\nV\\'s value became very close to 0 (showing the relationship between AT and V)\\nAP\\'s value reduced almost to 0 from a relatively large univariate value\\nRH\\'s value in multivariate became negative\\n\\nAs can be seen the correlation between AT and V is pretty high, which gives way to an explanation\\nas to why V\\'s coefficient in the multivariate regression was reduced. Had it not been reduced\\nthere would be \\'double counting\\'. When AT increases, V also increases. Thus if the coefficient\\nin the multi-regression model for V was same as that for V in the uni-regression model then the increase\\nin PE would be overestimated as in V\\'s individual model all the other predictors were ignored.\\n\\nThe increase in V also causes an increase in AT, and AT increases PE in the multiple-regression model.\\nThus to ensure the model accuracy, V\\'s coefficient must reduce so that increase in PE is not counted\\n\"twice\", both via an increase in AT and an increase in V. Increase in either two implies an increase\\nin the other, to ensure that this increase in the other doesn\\'t cause PE to increase way too much\\nin the multiple regression model, both V and AT\\'s values of their coefficients go down.\\n\\nSimilar explanations ensue for AT and AP, AT and RH, V and AP, V and RH and also AP and RH\\n\\nUsing their correlation and using the univariate values we can validate the changes in the coefficients\\nfrom the univariate to the multivariate model, thus improving our \"collective\" understanding of the\\nmodel\\n\\n'"
      ]
     },
     "execution_count": 1,
     "metadata": {},
     "output_type": "execute_result"
    }
   ],
   "source": [
    "# -*- coding: utf-8 -*-\n",
    "\"\"\"\n",
    "Created on Thu Sep 24 23:51:54 2020\n",
    "\n",
    "@author: DHRUV\n",
    "\"\"\"\n",
    "\n",
    "\n",
    "\"\"\"\n",
    "HW2\n",
    "\n",
    "e\n",
    "\"\"\"\n",
    "\n",
    "\"\"\"\n",
    "Univariate vs Multivariate Comparisons\n",
    "\n",
    "A .csv file was made tabulating the univariate and the multivariate beta coefficients\n",
    "for all the independent variables\n",
    "\n",
    "\"\"\"\n",
    "\n",
    "import pandas as pd\n",
    "import numpy as np\n",
    "import seaborn as sns\n",
    "import matplotlib.pyplot as plt\n",
    "import matplotlib.patches as mpatches\n",
    "\n",
    "table = pd.read_csv('HW2_e_Beta_Comparison_Table.csv', index_col = 0)\n",
    "print(table)\n",
    "df = pd.read_csv('Power_Plant.csv')\n",
    "print(df)\n",
    "features = df.drop(columns=['PE'])\n",
    "correlation_features = features.corr()\n",
    "print('The correlation matrix for our features is : \\n')\n",
    "print(correlation_features)\n",
    "plt.plot([-2.1713],[-1.9775], 'ro')\n",
    "plt.plot([-1.1681],[-0.2339], 'bo')\n",
    "plt.plot([1.4898],[0.0621], 'go')\n",
    "plt.plot([0.4556],[-0.1581], 'yo')\n",
    "plt.xlabel('Univariate')\n",
    "plt.ylabel('Multivariate')\n",
    "red_patch = mpatches.Patch(color='red', label='AT')\n",
    "blue_patch = mpatches.Patch(color='blue', label='V')\n",
    "green_patch = mpatches.Patch(color='green', label='AP')\n",
    "yellow_patch = mpatches.Patch(color='yellow', label='RH')\n",
    "plt.legend(handles=[red_patch,blue_patch,green_patch,yellow_patch])\n",
    "plt.show()\n",
    "\n",
    "\n",
    "\"\"\"\n",
    "From the values of the different predictors:\n",
    "\n",
    "AT's value in multivariate reduced in terms of magnitude\n",
    "V's value became very close to 0 (showing the relationship between AT and V)\n",
    "AP's value reduced almost to 0 from a relatively large univariate value\n",
    "RH's value in multivariate became negative\n",
    "\n",
    "As can be seen the correlation between AT and V is pretty high, which gives way to an explanation\n",
    "as to why V's coefficient in the multivariate regression was reduced. Had it not been reduced\n",
    "there would be 'double counting'. When AT increases, V also increases. Thus if the coefficient\n",
    "in the multi-regression model for V was same as that for V in the uni-regression model then the increase\n",
    "in PE would be overestimated as in V's individual model all the other predictors were ignored.\n",
    "\n",
    "The increase in V also causes an increase in AT, and AT increases PE in the multiple-regression model.\n",
    "Thus to ensure the model accuracy, V's coefficient must reduce so that increase in PE is not counted\n",
    "\"twice\", both via an increase in AT and an increase in V. Increase in either two implies an increase\n",
    "in the other, to ensure that this increase in the other doesn't cause PE to increase way too much\n",
    "in the multiple regression model, both V and AT's values of their coefficients go down.\n",
    "\n",
    "Similar explanations ensue for AT and AP, AT and RH, V and AP, V and RH and also AP and RH\n",
    "\n",
    "Using their correlation and using the univariate values we can validate the changes in the coefficients\n",
    "from the univariate to the multivariate model, thus improving our \"collective\" understanding of the\n",
    "model\n",
    "\n",
    "\"\"\"\n",
    "\n",
    "\n"
   ]
  },
  {
   "cell_type": "code",
   "execution_count": null,
   "metadata": {},
   "outputs": [],
   "source": []
  }
 ],
 "metadata": {
  "kernelspec": {
   "display_name": "Python 3",
   "language": "python",
   "name": "python3"
  },
  "language_info": {
   "codemirror_mode": {
    "name": "ipython",
    "version": 3
   },
   "file_extension": ".py",
   "mimetype": "text/x-python",
   "name": "python",
   "nbconvert_exporter": "python",
   "pygments_lexer": "ipython3",
   "version": "3.7.6"
  }
 },
 "nbformat": 4,
 "nbformat_minor": 4
}
