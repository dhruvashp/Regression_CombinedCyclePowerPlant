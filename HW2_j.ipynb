{
 "cells": [
  {
   "cell_type": "code",
   "execution_count": 1,
   "metadata": {},
   "outputs": [
    {
     "data": {
      "text/plain": [
       "'\\n\\nSmallest KNN Regression Test Error = 16.7062    k = 6    Data = Raw\\n\\nSmallest Linear Regression Test Error = (17.5 to 18.5)   Data = Raw  (part h)\\n\\nNormal Multi-regression Train Error = 20                 Data = Raw  (part d)\\n\\n\\nThe range has been provided for Linear Regression test error as each program run time\\ngenerated random test and training sets using train_test_split, but for KNN regression\\ntest and train sets were fixed\\n\\nComments\\n\\nOf all the linear regression models, the models used in (h) (with all interactions and \\nquadratics, and then removing the insignificant terms from that model) had the least\\ntest error. Again for all models used prior to (h) no test data was there and MSE were obtained\\nover the training sets itself. Still, even on those training sets the MSE that was least was obtained\\nfor the normal multi-regression model (MSE = 20, normal multi-regression model).\\n\\nThus models in (h) were best for linear regression MSE wise (test and train both)\\n\\nThe KNN model gives us, with raw data, an MSE test error minorly smaller than that\\nobtained via linear regression in (h)\\n\\nThus we could choose KNN or even the Linear Regression model of (h) or just the \\nnormal multi-regression model. All of them have MSE above 15 but below 20 and thus\\nall the methods are quite close in terms of accuracy (predicted via MSE)\\n\\n\\n'"
      ]
     },
     "execution_count": 1,
     "metadata": {},
     "output_type": "execute_result"
    }
   ],
   "source": [
    "# -*- coding: utf-8 -*-\n",
    "\"\"\"\n",
    "Created on Fri Sep 25 18:42:37 2020\n",
    "\n",
    "@author: DHRUV\n",
    "\"\"\"\n",
    "\n",
    "\n",
    "\"\"\"\n",
    "HW2\n",
    "j\n",
    "\"\"\"\n",
    "\n",
    "\"\"\"\n",
    "Comparing KNN regressions smallest test error with Linear Regressions smallest test error\n",
    "\n",
    "\"\"\"\n",
    "\n",
    "\"\"\"\n",
    "\n",
    "Smallest KNN Regression Test Error = 16.7062    k = 6    Data = Raw\n",
    "\n",
    "Smallest Linear Regression Test Error = (17.5 to 18.5)   Data = Raw  (part h)\n",
    "\n",
    "Normal Multi-regression Train Error = 20                 Data = Raw  (part d)\n",
    "\n",
    "\n",
    "The range has been provided for Linear Regression test error as each program run time\n",
    "generated random test and training sets using train_test_split, but for KNN regression\n",
    "test and train sets were fixed\n",
    "\n",
    "Comments\n",
    "\n",
    "Of all the linear regression models, the models used in (h) (with all interactions and \n",
    "quadratics, and then removing the insignificant terms from that model) had the least\n",
    "test error. Again for all models used prior to (h) no test data was there and MSE were obtained\n",
    "over the training sets itself. Still, even on those training sets the MSE that was least was obtained\n",
    "for the normal multi-regression model (MSE = 20, normal multi-regression model).\n",
    "\n",
    "Thus models in (h) were best for linear regression MSE wise (test and train both)\n",
    "\n",
    "The KNN model gives us, with raw data, an MSE test error minorly smaller than that\n",
    "obtained via linear regression in (h)\n",
    "\n",
    "Thus we could choose KNN or even the Linear Regression model of (h) or just the \n",
    "normal multi-regression model. All of them have MSE above 15 but below 20 and thus\n",
    "all the methods are quite close in terms of accuracy (predicted via MSE)\n",
    "\n",
    "\n",
    "\"\"\""
   ]
  },
  {
   "cell_type": "code",
   "execution_count": null,
   "metadata": {},
   "outputs": [],
   "source": []
  }
 ],
 "metadata": {
  "kernelspec": {
   "display_name": "Python 3",
   "language": "python",
   "name": "python3"
  },
  "language_info": {
   "codemirror_mode": {
    "name": "ipython",
    "version": 3
   },
   "file_extension": ".py",
   "mimetype": "text/x-python",
   "name": "python",
   "nbconvert_exporter": "python",
   "pygments_lexer": "ipython3",
   "version": "3.7.6"
  }
 },
 "nbformat": 4,
 "nbformat_minor": 4
}
